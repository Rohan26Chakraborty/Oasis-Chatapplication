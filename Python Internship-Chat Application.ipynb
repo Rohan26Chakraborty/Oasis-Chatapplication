{
 "cells": [
  {
   "cell_type": "code",
   "execution_count": 9,
   "metadata": {},
   "outputs": [],
   "source": [
    "from tkinter import *\n",
    "root = Tk()\n",
    "root.title(\"Chatbot\")\n",
    "BG_GRAY = \"#ABB2B9\"\n",
    "BG_COLOR = \"#17202A\"\n",
    "TEXT_COLOR = \"#EAECEE\"\n",
    "FONT = \"Helvetica 14\"\n",
    "FONT_BOLD = \"Helvetica 13 bold\"\n",
    "def send():\n",
    "    send = \"You -> \" + e.get()\n",
    "    txt.insert(END, \"\\n\" + send)\n",
    "    user = e.get().lower()\n",
    "    if (user == \"hello\"):\n",
    "        txt.insert(END, \"\\n\" + \"Bot -> Hi there, how can I help?\")\n",
    "    elif (user == \"hi\" or user == \"hii\" or user == \"hiiii\"):\n",
    "        txt.insert(END, \"\\n\" + \"Bot -> Hi there, what can I do for you?\")\n",
    "    elif (user == \"how are you\"):\n",
    "        txt.insert(END, \"\\n\" + \"Bot -> fine! and you\")\n",
    "    elif (user == \"fine\" or user == \"i am good\" or user == \"i am doing good\"):\n",
    "        txt.insert(END, \"\\n\" + \"Bot -> Great! how can I help you.\")\n",
    "    elif (user == \"thanks\" or user == \"thank you\" or user == \"now its my time\"):\n",
    "        txt.insert(END, \"\\n\" + \"Bot -> My pleasure !\")\n",
    "    elif (user == \"what do you sell\" or user == \"what kinds of items are there\" or user == \"have you something\"):\n",
    "        txt.insert(END, \"\\n\" + \"Bot -> We have coffee and tea\")\n",
    "    elif (user == \"tell me a joke\" or user == \"tell me something funny\" or user == \"crack a funny line\"):\n",
    "        txt.insert(\n",
    "            END, \"\\n\" + \"Bot -> What did the buffalo say when his son left for college? Bison.! \")\n",
    "    elif (user == \"goodbye\" or user == \"see you later\" or user == \"see yaa\"):\n",
    "        txt.insert(END, \"\\n\" + \"Bot -> Have a nice day!\")\n",
    "    else:\n",
    "        txt.insert(END, \"\\n\" + \"Bot -> Sorry! I didn't understand that\")\n",
    "    e.delete(0, END)\n",
    "lable1 = Label(root, bg=BG_COLOR, fg=TEXT_COLOR, text=\"Welcome\", font=FONT_BOLD, pady=10, width=20, height=1).grid(\n",
    "row=0)\n",
    "txt = Text(root, bg=BG_COLOR, fg=TEXT_COLOR, font=FONT, width=60)\n",
    "txt.grid(row=1, column=0, columnspan=2)\n",
    "scrollbar = Scrollbar(txt)\n",
    "scrollbar.place(relheight=1, relx=0.974)\n",
    "e = Entry(root, bg=\"#2C3E50\", fg=TEXT_COLOR, font=FONT, width=55)\n",
    "e.grid(row=2, column=0)\n",
    "send = Button(root, text=\"Send\", font=FONT_BOLD, bg=BG_GRAY,\n",
    "        command=send).grid(row=2, column=1)\n",
    "root.mainloop()"
   ]
  }
 ],
 "metadata": {
  "kernelspec": {
   "display_name": "Python 3",
   "language": "python",
   "name": "python3"
  },
  "language_info": {
   "codemirror_mode": {
    "name": "ipython",
    "version": 3
   },
   "file_extension": ".py",
   "mimetype": "text/x-python",
   "name": "python",
   "nbconvert_exporter": "python",
   "pygments_lexer": "ipython3",
   "version": "3.6.5"
  }
 },
 "nbformat": 4,
 "nbformat_minor": 2
}
